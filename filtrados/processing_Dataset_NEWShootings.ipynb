{
 "cells": [
  {
   "cell_type": "markdown",
   "id": "f14f548c-3526-4b97-ab12-0b121a30544d",
   "metadata": {},
   "source": [
    "# Processing"
   ]
  },
  {
   "cell_type": "markdown",
   "id": "5ce2f76d",
   "metadata": {},
   "source": [
    "### Filtrat dataset NEWShootings"
   ]
  },
  {
   "cell_type": "markdown",
   "id": "86569a4a",
   "metadata": {},
   "source": [
    "Per canviar les sigles amb el nom sencer del estat per així cooncordi amb els altres datasets que tenim"
   ]
  },
  {
   "cell_type": "code",
   "execution_count": 3,
   "id": "1282b6fb",
   "metadata": {},
   "outputs": [],
   "source": [
    "import pandas as pd\n",
    "import numpy as np\n",
    "import os\n",
    "import warnings\n",
    "warnings.filterwarnings('ignore')\n",
    "\n",
    "us_state_to_abbrev = {'AL': 'Alabama', 'AK': 'Alaska', 'AZ': 'Arizona', 'AR': 'Arkansas', 'CA': 'California', 'CO': 'Colorado', 'CT': 'Connecticut', 'DE': 'Delaware', 'FL': 'Florida', 'GA': 'Georgia', 'HI': 'Hawaii', 'ID': 'Idaho', 'IL': 'Illinois', 'IN': 'Indiana', 'IA': 'Iowa', 'KS': 'Kansas', 'KY': 'Kentucky', 'LA': 'Louisiana', 'ME': 'Maine', 'MD': 'Maryland', 'MA': 'Massachusetts', 'MI': 'Michigan', 'MN': 'Minnesota', 'MS': 'Mississippi', 'MO': 'Missouri', 'MT': 'Montana', 'NE': 'Nebraska', 'NV': 'Nevada', 'NH': 'New Hampshire', 'NJ': 'New Jersey', 'NM': 'New Mexico', 'NY': 'New York', 'NC': 'North Carolina', 'ND': 'North Dakota', 'OH': 'Ohio', 'OK': 'Oklahoma', 'OR': 'Oregon', 'PA': 'Pennsylvania', 'RI': 'Rhode Island', 'SC': 'South Carolina', 'SD': 'South Dakota', 'TN': 'Tennessee', 'TX': 'Texas', 'UT': 'Utah', 'VT': 'Vermont', 'VA': 'Virginia', 'WA': 'Washington', 'WV': 'West Virginia', 'WI': 'Wisconsin', 'WY': 'Wyoming', 'DC': 'District of Columbia'}\n",
    "\n",
    "\n",
    "def ownership_value(state_tag):\n",
    "    \"\"\" Para cada estado devuelve el valor de posesion de armas de este\"\"\"\n",
    "    try:\n",
    "        state_name = us_state_to_abbrev[state_tag]\n",
    "    except:\n",
    "        return np.nan\n",
    "    \n",
    "shootings = pd.read_csv('/Users/carlavinastemplado/Desktop/Projecte VD/shootings2.csv')\n",
    "shooting_v1 = shootings.copy()\n",
    "shooting_v1['state'] = shooting_v1['state'].map(us_state_to_abbrev,\n",
    "                             na_action=None)\n",
    "\n",
    "shooting_v1.to_csv(\"NEWShootings.csv\")"
   ]
  }
 ],
 "metadata": {
  "interpreter": {
   "hash": "5b6fc3ce3eaec4f70148e320ca17ecc6ceb997839ba09116002de4fd80a316da"
  },
  "kernelspec": {
   "display_name": "Python 3.8.5 ('base')",
   "language": "python",
   "name": "python3"
  },
  "language_info": {
   "codemirror_mode": {
    "name": "ipython",
    "version": 3
   },
   "file_extension": ".py",
   "mimetype": "text/x-python",
   "name": "python",
   "nbconvert_exporter": "python",
   "pygments_lexer": "ipython3",
   "version": "3.8.5"
  }
 },
 "nbformat": 4,
 "nbformat_minor": 5
}
